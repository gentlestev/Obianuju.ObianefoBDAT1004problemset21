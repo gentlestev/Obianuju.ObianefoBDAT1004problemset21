{
 "cells": [
  {
   "cell_type": "code",
   "execution_count": 19,
   "id": "9af864ac-1a91-419a-af2a-dc9fe5bd8bf8",
   "metadata": {},
   "outputs": [],
   "source": [
    "# Question 1\n",
    "#Consider the following Python module:\n",
    "a = 0\n",
    "def b():\n",
    " global a\n",
    " a = c(a)\n",
    "def c(a):\n",
    " return a + 2\n"
   ]
  },
  {
   "cell_type": "code",
   "execution_count": 20,
   "id": "46bfa2bf-044a-4f06-973f-f0658666731a",
   "metadata": {},
   "outputs": [
    {
     "data": {
      "text/plain": [
       "6"
      ]
     },
     "execution_count": 20,
     "metadata": {},
     "output_type": "execute_result"
    }
   ],
   "source": [
    "# After importing the module into the interpreter, you execute:\n",
    ">>> b()\n",
    ">>> b()\n",
    ">>> b()\n",
    ">>> a\n",
    "# What value is displayed when the last expression (a) is evaluated? Explain your answer by indicating what happens in every executed statement."
   ]
  },
  {
   "cell_type": "code",
   "execution_count": null,
   "id": "ffc4b537-5a5c-40a4-9ea4-4b19287d84cd",
   "metadata": {},
   "outputs": [],
   "source": [
    "#Answer Explanation:\n",
    "#At the first call \n",
    "b(): a=0 has an initial global variable scope but the declaration of \"a\" as a global variable in funtion b(); supercedes the intial value of 'a';\n",
    "However, defining c(a) makes it also of a global scope which recalls the formal value of 'a'. \n",
    "Therefore:\n",
    "a=c(a) +2\n",
    "=0+2 = 2\n",
    "\n",
    "# At second call\n",
    "b()\n",
    "a=2+2=4\n",
    "\n",
    "# A third call: b()\n",
    "a=4+2=6\n",
    "\n",
    "# therefore last call of 'a':\n",
    "a=6\n"
   ]
  },
  {
   "cell_type": "markdown",
   "id": "393eb9d7-9119-434a-9ff9-770659715a1c",
   "metadata": {},
   "source": [
    "# Question 2\n",
    "Function fileLength(), given to you, takes the name of a file as input and returns\n",
    "the length of the file:\n",
    ">>> fileLength('midterm.py')\n",
    "284\n",
    ">>> fileLength('idterm.py')\n",
    "Traceback (most recent call last):\n",
    "File \"<pyshell#34>\", line 1, in <module>\n",
    " fileLength('idterm.py')\n",
    "File \"/Users/me/midterm.py\", line 3, in fileLength\n",
    " infile = open(filename)\n",
    "FileNotFoundError: [Errno 2] No such file or directory:\n",
    "'idterm.py'\n",
    "\n",
    "As shown above, if the file cannot be found by the interpreter or if it cannot be read\n",
    "as a text file, an exception will be raised. Modify function fileLength() so that a\n",
    "friendly message is printed instead:\n",
    ">>> fileLength('midterm.py')\n",
    "358\n",
    ">>> fileLength('idterm.py')\n",
    "File idterm.py not found.\n"
   ]
  },
  {
   "cell_type": "code",
   "execution_count": 16,
   "id": "c0d5126b-81d0-475e-8eb7-b69818fa323b",
   "metadata": {},
   "outputs": [],
   "source": [
    "# Answer:\n",
    "def filelength(filename): # defining the function\n",
    "    try:\n",
    "        with open(filename, 'r') as file:\n",
    "            contents = file.read()\n",
    "            return len(contents)  # Return the length of the file contents\n",
    "    except FileNotFoundError:\n",
    "        print(f\"File {filename} not found.\")  # Handle case where the file does not exist\n",
    "    except Exception as ex:\n",
    "        print(f\"An error occurred: {ex}\")  # Handle any other unexpected errors"
   ]
  },
  {
   "cell_type": "code",
   "execution_count": 11,
   "id": "b5c21a0b-0acb-4be1-9cb2-39c16ddad05f",
   "metadata": {},
   "outputs": [
    {
     "name": "stdout",
     "output_type": "stream",
     "text": [
      "The length of the file midterm.py is: 211 characters\n"
     ]
    }
   ],
   "source": [
    "#for the file that exists\n",
    "filename = 'midterm.py'\n",
    "length = filelength(filename)\n",
    "if length is not None:\n",
    "    print(f\"The length of the file {filename} is: {length} characters\")"
   ]
  },
  {
   "cell_type": "code",
   "execution_count": 12,
   "id": "46f33bdb-4250-42b6-915d-c3c3ae1ed159",
   "metadata": {},
   "outputs": [
    {
     "name": "stdout",
     "output_type": "stream",
     "text": [
      "File idterm.py not found.\n"
     ]
    }
   ],
   "source": [
    "# Check another file that does not exist\n",
    "filename = 'idterm.py'\n",
    "length = filelength(filename)\n",
    "if length is not None:\n",
    "    print(f\"The length of the file {filename} is: {length} characters\")"
   ]
  },
  {
   "cell_type": "markdown",
   "id": "6b79a8a3-7aac-4a89-a577-1885a8f64567",
   "metadata": {},
   "source": [
    "# Question 3\n",
    "Write a class named Marsupial that can be used as shown below:\n",
    ">>> m = Marsupial()\n",
    ">>> m.put_in_pouch('doll')\n",
    ">>> m.put_in_pouch('firetruck')\n",
    ">>> m.put_in_pouch('kitten')\n",
    ">>> m.pouch_contents()\n",
    "['doll', 'firetruck', 'kitten']\n",
    "\n",
    "Now write a class named Kangaroo as a subclass of Marsupial that inherits all the\n",
    "attributes of Marsupial and also:\n",
    "a. extends the Marsupial __init__ constructor to take, as input, the\n",
    "coordinates x and y of the Kangaroo object,\n",
    "b. supports method jump that takes number values dx and dy as input and\n",
    "moves the kangaroo by dx units along the x-axis and by dy units along the yaxis, and\n",
    "c. overloads the __str__ operator so it behaves as shown below.\n",
    ">>> k = Kangaroo(0,0)\n",
    ">>> print(k)\n",
    "I am a Kangaroo located at coordinates (0,0)\n",
    ">>> k.put_in_pouch('doll')\n",
    ">>> k.put_in_pouch('firetruck')\n",
    ">>> k.put_in_pouch('kitten')\n",
    ">>> k.pouch_contents()\n",
    "['doll', 'firetruck', 'kitten']\n",
    ">>> k.jump(1,0)\n",
    ">>> k.jump(1,0)\n",
    ">>> k.jump(1,0)\n",
    ">>> print(k)\n",
    "I am a Kangaroo located at coordinates (3,0)"
   ]
  },
  {
   "cell_type": "code",
   "execution_count": 21,
   "id": "d10aaf41-8ebc-43cd-a1a1-e6010267a9a5",
   "metadata": {},
   "outputs": [],
   "source": [
    "# Answer\n",
    "class Marsupial:\n",
    "    def __init__(self):\n",
    "        self.pouch = []\n",
    "\n",
    "    def put_in_pouch(self, item):\n",
    "        self.pouch.append(item)\n",
    "\n",
    "    def pouch_contents(self):\n",
    "        return self.pouch\n",
    "\n",
    "class Kangaroo(Marsupial):\n",
    "    def __init__(self, x, y):\n",
    "        super().__init__()  \n",
    "        self.x = x\n",
    "        self.y = y\n",
    "\n",
    "    def jump(self, dx, dy):\n",
    "        self.x += dx\n",
    "        self.y += dy\n",
    "\n",
    "    def __str__(self):\n",
    "        return f'I am a Kangaroo located at coordinates ({self.x}, {self.y})'"
   ]
  },
  {
   "cell_type": "code",
   "execution_count": 22,
   "id": "52d0ccf5-b9b6-4e0a-89e5-6a86569b8bce",
   "metadata": {},
   "outputs": [
    {
     "name": "stdout",
     "output_type": "stream",
     "text": [
      "I am a Kangaroo located at coordinates (0, 0)\n"
     ]
    }
   ],
   "source": [
    "k = Kangaroo(0, 0)\n",
    "print(k)  "
   ]
  },
  {
   "cell_type": "code",
   "execution_count": 23,
   "id": "b4a8e6d8-91ba-422b-9441-3c4bfd046f03",
   "metadata": {},
   "outputs": [
    {
     "name": "stdout",
     "output_type": "stream",
     "text": [
      "['doll', 'firetruck', 'kitten']\n"
     ]
    }
   ],
   "source": [
    "k.put_in_pouch('doll')\n",
    "k.put_in_pouch('firetruck')\n",
    "k.put_in_pouch('kitten')\n",
    "print(k.pouch_contents())  "
   ]
  },
  {
   "cell_type": "code",
   "execution_count": 24,
   "id": "f71a898a-8a44-431c-a8ff-08eabc26b6d7",
   "metadata": {},
   "outputs": [
    {
     "name": "stdout",
     "output_type": "stream",
     "text": [
      "I am a Kangaroo located at coordinates (3, 0)\n"
     ]
    }
   ],
   "source": [
    ">>> k.jump(1,0)\n",
    ">>> k.jump(1,0)\n",
    ">>> k.jump(1,0)\n",
    ">>> print(k)"
   ]
  },
  {
   "cell_type": "markdown",
   "id": "07d1114c-6f0f-4a6f-b0de-829a927c5ccb",
   "metadata": {},
   "source": [
    "# Question 4:\n",
    "Write function collatz() that takes a positive integer x as input and prints the\n",
    "Collatz sequence starting at x. A Collatz sequence is obtained by repeatedly applying\n",
    "this rule to the previous number x in the sequence:\n",
    "x = {\n",
    "𝑥/2 𝑖𝑓 𝑥 𝑖𝑠 𝑒𝑣𝑒𝑛\n",
    "3𝑥 + 1 𝑖𝑓 𝑥 𝑖𝑠 𝑜𝑑𝑑\n",
    "Your function should stop when the sequence gets to number 1. Your\n",
    "implementation must be recursive, without any loops."
   ]
  },
  {
   "cell_type": "code",
   "execution_count": 25,
   "id": "bba76df2-5754-4e64-9df5-8b10949bc5d2",
   "metadata": {},
   "outputs": [],
   "source": [
    "# Answer:\n",
    "def collatz(x):\n",
    "    print(x)\n",
    "    if x == 1:\n",
    "        return\n",
    "    elif x % 2 == 0:\n",
    "        collatz(x // 2)\n",
    "    else:\n",
    "        collatz(3 * x + 1)\n"
   ]
  },
  {
   "cell_type": "code",
   "execution_count": 26,
   "id": "917ee65f-ff22-458d-bb4e-d07ea8cea00e",
   "metadata": {},
   "outputs": [
    {
     "name": "stdout",
     "output_type": "stream",
     "text": [
      "1\n"
     ]
    }
   ],
   "source": [
    ">>> collatz(1)"
   ]
  },
  {
   "cell_type": "code",
   "execution_count": 27,
   "id": "5e6fed93-532e-444e-a50e-422de740118d",
   "metadata": {},
   "outputs": [
    {
     "name": "stdout",
     "output_type": "stream",
     "text": [
      "10\n",
      "5\n",
      "16\n",
      "8\n",
      "4\n",
      "2\n",
      "1\n"
     ]
    }
   ],
   "source": [
    ">>> collatz(10)"
   ]
  },
  {
   "cell_type": "markdown",
   "id": "22507d55-27c1-4e7a-9e5a-9b3cc80c7cab",
   "metadata": {},
   "source": [
    "# Question 5\n",
    "Write a recursive method binary() that takes a non-negative\n",
    "integer n and prints the binary representation of integer n."
   ]
  },
  {
   "cell_type": "code",
   "execution_count": 39,
   "id": "f6c5a471-b4fc-4e0b-94cd-d6184b8a8a32",
   "metadata": {},
   "outputs": [],
   "source": [
    "#Answer:\n",
    "def binary(n):\n",
    "    if n < 0:\n",
    "        raise ValueError(\"Input must be a non-negative integer.\")\n",
    "    if n == 0:\n",
    "        print(0, end='')\n",
    "    else:\n",
    "        recursiveBinary(n)\n",
    "    print()  \n",
    "\n",
    "def recursiveBinary(n):\n",
    "    if n > 0:\n",
    "        recursiveBinary(n // 2)\n",
    "        print(n % 2, end='')"
   ]
  },
  {
   "cell_type": "code",
   "execution_count": 40,
   "id": "3a2c269b-bd49-46b5-84c7-c4f0abd0e92d",
   "metadata": {},
   "outputs": [
    {
     "name": "stdout",
     "output_type": "stream",
     "text": [
      "0\n"
     ]
    }
   ],
   "source": [
    ">>> binary(0)"
   ]
  },
  {
   "cell_type": "code",
   "execution_count": 41,
   "id": "3b0320fa-a434-4fa4-a7cd-431db3cb050a",
   "metadata": {},
   "outputs": [
    {
     "name": "stdout",
     "output_type": "stream",
     "text": [
      "1\n"
     ]
    }
   ],
   "source": [
    ">>> binary(1)"
   ]
  },
  {
   "cell_type": "code",
   "execution_count": 44,
   "id": "602c95a6-1c48-461b-b65f-04c453d021f7",
   "metadata": {},
   "outputs": [
    {
     "name": "stdout",
     "output_type": "stream",
     "text": [
      "11\n"
     ]
    }
   ],
   "source": [
    ">>> binary(3)"
   ]
  },
  {
   "cell_type": "code",
   "execution_count": 43,
   "id": "11befd0c-7835-4456-9735-aa5ae1c80d8c",
   "metadata": {},
   "outputs": [
    {
     "name": "stdout",
     "output_type": "stream",
     "text": [
      "1001\n"
     ]
    }
   ],
   "source": [
    ">>> binary(9)"
   ]
  },
  {
   "cell_type": "markdown",
   "id": "c98f8341-b0fa-40ef-8c4d-33a75421adca",
   "metadata": {},
   "source": [
    "# Question 6:\n",
    "Implement a class named HeadingParser that can be used to parse an HTML\n",
    "document, and retrieve and print all the headings in the document. You should\n",
    "implement your class as a subclass of HTMLParser, defined in Standard Library\n",
    "module html.parser. When fed a string containing HTML code, your class should\n",
    "print the headings, one per line and in the order in which they appear in the\n",
    "document. Each heading should be indented as follows: an h1 heading should have \n",
    "indentation 0, and h2 heading should have indentation 1, etc."
   ]
  },
  {
   "cell_type": "code",
   "execution_count": 45,
   "id": "ce25ec59-647d-4ddc-bacd-ba7d14795933",
   "metadata": {},
   "outputs": [],
   "source": [
    "# Answer:\n",
    "from html.parser import HTMLParser\n",
    "\n",
    "class HeadingParser(HTMLParser):\n",
    "    def __init__(self):\n",
    "        super().__init__()\n",
    "        self.in_heading = False\n",
    "        self.heading_level = 0\n",
    "\n",
    "    def handle_starttag(self, tag, attrs):\n",
    "        if tag in ['h1', 'h2', 'h3', 'h4', 'h5', 'h6']:\n",
    "            self.in_heading = True\n",
    "            self.heading_level = int(tag[1])\n",
    "\n",
    "    def handle_endtag(self, tag):\n",
    "        if tag in ['h1', 'h2', 'h3', 'h4', 'h5', 'h6']:\n",
    "            self.in_heading = False\n",
    "\n",
    "    def handle_data(self, data):\n",
    "        if self.in_heading:\n",
    "            print(' ' * (self.heading_level - 1) + data.strip())"
   ]
  },
  {
   "cell_type": "code",
   "execution_count": 47,
   "id": "a5b5b0b2-4cc8-4ed0-9a87-a0d126619f4c",
   "metadata": {},
   "outputs": [
    {
     "name": "stdout",
     "output_type": "stream",
     "text": [
      "W3C Mission\n",
      " Principles\n"
     ]
    }
   ],
   "source": [
    ">>> infile = open('w3c.html')\n",
    ">>> content = infile.read()\n",
    ">>> infile.close()\n",
    ">>> hp = HeadingParser()\n",
    ">>> hp.feed(content)\n"
   ]
  },
  {
   "cell_type": "markdown",
   "id": "830a7d48-64f2-48bc-aef0-22358f327b92",
   "metadata": {},
   "source": [
    "# Question 7\n",
    "Implement recursive function webdir() that takes as input: a URL (as a string) and\n",
    "non-negative integers depth and indent. Your function should visit every web\n",
    "page reachable from the starting URL web page in depth clicks or less, and print\n",
    "each web page's URL. As shown below, indentation, specified by indent, should\n",
    "be used to indicate the depth of a URL.\n",
    ">>>\n",
    "webdir('http://reed.cs.depaul.edu/lperkovic/csc242/test1.html'\n",
    ", 2, 0)\n",
    "http://reed.cs.depaul.edu/lperkovic/csc242/test1.html\n",
    " http://reed.cs.depaul.edu/lperkovic/csc242/test2.html\n",
    " http://reed.cs.depaul.edu/lperkovic/csc242/test4.html\n",
    " http://reed.cs.depaul.edu/lperkovic/csc242/test3.html\n",
    " http://reed.cs.depaul.edu/lperkovic/csc242/test4.html\n"
   ]
  },
  {
   "cell_type": "code",
   "execution_count": 48,
   "id": "1516fccc-0672-4f63-b464-53033f023912",
   "metadata": {},
   "outputs": [
    {
     "name": "stdout",
     "output_type": "stream",
     "text": [
      "Requirement already satisfied: requests in c:\\users\\user\\anaconda3\\lib\\site-packages (2.31.0)\n",
      "Requirement already satisfied: beautifulsoup4 in c:\\users\\user\\anaconda3\\lib\\site-packages (4.12.2)\n",
      "Requirement already satisfied: charset-normalizer<4,>=2 in c:\\users\\user\\anaconda3\\lib\\site-packages (from requests) (2.0.4)\n",
      "Requirement already satisfied: idna<4,>=2.5 in c:\\users\\user\\anaconda3\\lib\\site-packages (from requests) (3.4)\n",
      "Requirement already satisfied: urllib3<3,>=1.21.1 in c:\\users\\user\\anaconda3\\lib\\site-packages (from requests) (2.0.7)\n",
      "Requirement already satisfied: certifi>=2017.4.17 in c:\\users\\user\\anaconda3\\lib\\site-packages (from requests) (2024.2.2)\n",
      "Requirement already satisfied: soupsieve>1.2 in c:\\users\\user\\anaconda3\\lib\\site-packages (from beautifulsoup4) (2.5)\n",
      "Note: you may need to restart the kernel to use updated packages.\n"
     ]
    }
   ],
   "source": [
    "pip install requests beautifulsoup4"
   ]
  },
  {
   "cell_type": "code",
   "execution_count": 49,
   "id": "6a3d39a9-9f6c-4b53-b45a-9c8015536664",
   "metadata": {},
   "outputs": [],
   "source": [
    "import requests\n",
    "from bs4 import BeautifulSoup\n",
    "import urllib.parse\n",
    "\n",
    "def webdir(url, depth, indent):\n",
    "    def fetch_links(url):\n",
    "        try:\n",
    "            response = requests.get(url)\n",
    "            response.raise_for_status()  \n",
    "            soup = BeautifulSoup(response.text, 'html.parser')\n",
    "            links = [a.get('href') for a in soup.find_all('a', href=True)]\n",
    "            # Convert relative links to absolute links\n",
    "            links = [urllib.parse.urljoin(url, link) for link in links]\n",
    "            return links\n",
    "        except requests.RequestException as e:\n",
    "            print(f\"Error fetching {url}: {e}\")\n",
    "            return []\n",
    "\n",
    "    def crawl(url, depth, indent, visited):\n",
    "        if depth < 0 or url in visited:\n",
    "            return\n",
    "        print(' ' * indent + url)\n",
    "        visited.add(url)\n",
    "        if depth == 0:\n",
    "            return\n",
    "        links = fetch_links(url)\n",
    "        for link in links:\n",
    "            crawl(link, depth - 1, indent + 1, visited)\n",
    "\n",
    "    visited_urls = set()\n",
    "    crawl(url, depth, indent, visited_urls)"
   ]
  },
  {
   "cell_type": "code",
   "execution_count": 50,
   "id": "d7f1521e-abf3-402d-b590-1f113e782fba",
   "metadata": {},
   "outputs": [
    {
     "name": "stdout",
     "output_type": "stream",
     "text": [
      "http://reed.cs.depaul.edu/lperkovic/csc242/test1.html\n",
      "Error fetching http://reed.cs.depaul.edu/lperkovic/csc242/test1.html: 404 Client Error:  for url: http://reed.cs.depaul.edu/lperkovic/csc242/test1.html\n"
     ]
    }
   ],
   "source": [
    ">>>\n",
    "webdir('http://reed.cs.depaul.edu/lperkovic/csc242/test1.html'\n",
    ", 2, 0)"
   ]
  },
  {
   "cell_type": "code",
   "execution_count": 51,
   "id": "1851ab78-b141-4e19-bf19-813d91d78f15",
   "metadata": {},
   "outputs": [
    {
     "name": "stdout",
     "output_type": "stream",
     "text": [
      "https://www.georgiancollege.ca/\n",
      " https://www.georgiancollege.ca/#main\n",
      "  https://www.georgiancollege.ca/future-students/\n",
      "  https://www.georgiancollege.ca/current-students/\n",
      "  https://www.georgiancollege.ca/international/\n",
      "  https://www.georgiancollege.ca/indigenous-initiatives/\n",
      "  https://www.georgiancollege.ca/military/\n",
      "  https://www.georgiancollege.ca/parents/\n",
      "  https://www.georgiancollege.ca/community-alumni/alumni/\n",
      "  https://www.georgiancollege.ca/employers-partners/\n",
      "  https://www.georgiancollege.ca/community-alumni/giving/\n",
      "  https://www.georgiancollege.ca/about-georgian/contact-us/student-recruitment-team/\n",
      "  https://www.georgiancollege.ca/academics/programs/\n",
      "  https://www.georgiancollege.ca/academics/new-programs/\n",
      "  https://www.georgiancollege.ca/academics/apprenticeships/\n",
      "  https://www.georgiancollege.ca/academics/degrees/\n",
      "  https://www.georgiancollege.ca/academics/graduate-certificates/\n",
      "  https://www.georgiancollege.ca/academics/programs/?campus=barrie\n",
      "  https://www.georgiancollege.ca/academics/programs/?campus=midland\n",
      "  https://www.georgiancollege.ca/academics/programs/?campus=muskoka\n",
      "  https://www.georgiancollege.ca/academics/programs/?campus=orangeville\n",
      "  https://www.georgiancollege.ca/academics/programs/?campus=orillia\n",
      "  https://www.georgiancollege.ca/academics/programs/?campus=owen%20sound\n",
      "  https://www.georgiancollege.ca/academics/programs/?campus=south%20georgian%20bay\n",
      "  https://www.georgiancollege.ca/academics/academic-areas/automotive-business/\n",
      "  https://www.georgiancollege.ca/academics/academic-areas/business-and-management/\n",
      "  https://www.georgiancollege.ca/academics/academic-areas/community-safety/\n",
      "  https://www.georgiancollege.ca/academics/academic-areas/computer-studies/\n",
      "  https://www.georgiancollege.ca/academics/academic-areas/design-and-visual-arts/\n",
      "  https://www.georgiancollege.ca/academics/academic-areas/engineering-and-environmental-technologies/\n",
      "  https://www.georgiancollege.ca/academics/academic-areas/health-wellness-and-sciences/\n",
      "  https://www.georgiancollege.ca/academics/academic-areas/hospitality-tourism-and-recreation/\n",
      "  https://www.georgiancollege.ca/academics/academic-areas/human-services/\n",
      "  https://www.georgiancollege.ca/academics/academic-areas/indigenous-studies/\n",
      "  https://www.georgiancollege.ca/academics/academic-areas/liberal-arts/\n",
      "  https://www.georgiancollege.ca/academics/academic-areas/marine-studies/\n",
      "  https://www.georgiancollege.ca/academics/academic-areas/skilled-trades/\n",
      "  https://www.georgiancollege.ca/academics/continuing-education/\n",
      "  https://www.georgiancollege.ca/academics/continuing-education/courses/\n",
      "  https://www.georgiancollege.ca/academics/continuing-education/programs/\n",
      "  https://www.georgiancollege.ca/academics/online-learning/\n",
      "  https://www.georgiancollege.ca/academics/micro-credentials/\n",
      "  https://www.georgiancollege.ca/academics/continuing-education/information-centre/\n",
      "  https://www.georgiancollege.ca/academics/continuing-education/contact-us/\n",
      "  https://www.georgiancollege.ca/corporate-training/\n",
      "  https://www.georgiancollege.ca/international/programs/\n",
      "  https://georgianatilac.com/\n",
      "  https://www.georgiancollege.ca/academics/academic-and-career-preparation/\n",
      "  https://www.georgiancollege.ca/academics/english-language-studies/\n",
      "  https://www.georgiancollege.ca/admissions/apply/\n",
      "  https://www.georgiancollege.ca/about-georgian/contact-us/mailing-list/\n",
      "  https://www.georgiancollege.ca/admissions/track-application/\n",
      "  https://www.georgiancollege.ca/admissions/accept-offer/\n",
      "  https://www.georgiancollege.ca/admissions/confirm-seat/\n",
      "  https://www.georgiancollege.ca/admissions/register/\n",
      "  https://www.georgiancollege.ca/admissions/academic-regulations/\n",
      "  https://www.georgiancollege.ca/admissions/admission-requirement-forms/\n",
      "  https://www.georgiancollege.ca/admissions/apply/highly-competitive-programs/\n",
      "  https://www.georgiancollege.ca/admissions/important-dates/\n",
      "  https://www.georgiancollege.ca/student-life/student-services/placement-offices/\n",
      "  https://www.georgiancollege.ca/admissions/credit-transfer/\n",
      "  https://www.georgiancollege.ca/international/admissions/\n",
      "  https://www.georgiancollege.ca/international/admissions/#admission-requirements\n",
      "  https://www.georgiancollege.ca/international/contact-us/\n",
      "  https://www.georgiancollege.ca/international/admissions/#learn-how-to-apply\n",
      "  https://www.georgiancollege.ca/admissions/contact/\n",
      "  https://www.georgiancollege.ca/finance-and-fees/awards/\n",
      "  https://www.georgiancollege.ca/finance-and-fees/budgeting-tips-tricks/\n",
      "  https://www.georgiancollege.ca/finance-and-fees/osap-financial-aid/\n",
      "  https://www.georgiancollege.ca/finance-and-fees/better-jobs-ontario/\n",
      "  https://www.georgiancollege.ca/finance-and-fees/ontario-learn-and-stay-grant/\n",
      "  https://www.georgiancollege.ca/finance-and-fees/work-study-program/\n",
      "  https://www.georgiancollege.ca/finance-and-fees/extended-society-care-bursary/\n",
      "  https://www.georgiancollege.ca/finance-and-fees/schulich-builders-scholarships-for-skilled-trades/\n",
      "  https://www.georgiancollege.ca/finance-and-fees/students-with-disabilities-bursary/\n",
      "  https://www.georgiancollege.ca/finance-and-fees/payment-information/\n",
      "  https://www.georgiancollege.ca/student-life/campus-services/onecard/\n",
      "  https://www.georgiancollege.ca/about-georgian/visit-us/parking/\n",
      "  https://www.georgiancollege.ca/finance-and-fees/program-specific-fees/\n",
      "  https://www.georgiancollege.ca/finance-and-fees/tuition-and-ancillary-fees/\n",
      "  https://www.georgiancollege.ca/international/finance-and-fees/\n",
      "  https://www.georgiancollege.ca/international/finance-and-fees/#how-to-pay-your-fees\n",
      "  https://www.georgiancollege.ca/international/finance-and-fees/#tuition-fees\n",
      "  https://portal.georgiancollege.ca\n",
      "  https://www.georgiancollege.ca/student-life/athletics/\n",
      "  https://www.georgiancollege.ca/student-life/esports/\n",
      "  https://www.georgiancollege.ca/student-life/students-administrative-council/\n",
      "  https://www.georgiancollege.ca/student-life/students-administrative-council/awards-and-grants/\n",
      "  https://www.georgiancollege.ca/student-life/students-administrative-council/clubs-associations/\n",
      "  https://www.georgiancollege.ca/student-life/students-administrative-council/events/\n",
      "  https://www.georgiancollege.ca/student-life/students-administrative-council/get-involved/\n",
      "  https://www.georgiancollege.ca/student-life/students-administrative-council/services/\n",
      "  https://www.georgiancollege.ca/student-life/orientation/#head-start\n",
      "  https://www.georgiancollege.ca/student-life/orientation/#orientation\n",
      "  https://www.georgiancollege.ca/student-life/orientation/#peer-mentors\n",
      "  https://www.georgiancollege.ca/about-georgian/campus-safety-and-security/\n",
      "  https://www.georgiancollege.ca/student-life/campus-services/bear-essentials/\n",
      "  https://www.georgiancollege.ca/student-life/campus-services/campus-food-services/\n",
      "  https://www.georgiancollege.ca/student-life/campus-services/information-technology/\n",
      "  https://www.georgiancollege.ca/student-life/campus-services/residence-housing/\n",
      "  https://www.georgiancollege.ca/about-georgian/visit-us/transit/\n",
      "  https://www.georgiancollege.ca/admissions/forms/\n",
      "  https://www.georgiancollege.ca/student-life/graduation/\n",
      "  https://www.georgiancollege.ca/mypath/\n",
      "  https://www.georgiancollege.ca/admissions/transcript/\n",
      "  https://www.georgiancollege.ca/student-life/student-services/\n",
      "  https://www.georgiancollege.ca/student-life/student-services/accessibility-services/\n",
      "  https://www.georgiancollege.ca/student-life/student-services/co-op-and-career-services/\n",
      "  https://www.georgiancollege.ca/student-life/student-services/counselling/\n",
      "  https://www.georgiancollege.ca/student-life/student-services/health-services/\n",
      "  https://www.georgiancollege.ca/student-life/student-services/indigenous-student-support/\n",
      "  https://library.georgiancollege.ca/main\n",
      "  https://www.georgiancollege.ca/student-life/student-services/student-advising/\n",
      "  https://www.georgiancollege.ca/student-life/student-services/testing/\n",
      "  https://www.georgiancollege.ca/student-life/remote-learning-and-supports/\n",
      "  https://www.georgiancollege.ca/about-georgian/visit-us/campus-tours/\n",
      "  https://www.georgiancollege.ca/community-alumni/advanced-technology-centre/\n",
      "  https://www.georgiancollege.ca/community-alumni/changemaker-college/\n",
      "  https://www.georgiancollege.ca/community-alumni/applied-research-and-innovation/\n",
      "  https://www.georgiancollege.ca/community-alumni/entrepreneurship-centre/\n",
      "  https://www.georgiancollege.ca/community-alumni/conference-services/\n",
      "  https://www.georgiancollege.ca/community-alumni/centre-for-career-and-employment-services/\n",
      "  https://www.georgiancollege.ca/community-alumni/centre-for-career-and-employment-services/job-seekers/\n",
      "  https://www.georgiancollege.ca/community-alumni/centre-for-career-and-employment-services/employers/\n",
      "  https://www.georgiancollege.ca/community-alumni/centre-for-career-and-employment-services/jobs-for-youth/\n",
      "  https://www.georgiancollege.ca/community-alumni/alumni/about-us/\n",
      "  https://www.georgiancollege.ca/community-alumni/alumni/alumni-perks/\n",
      "  https://www.georgiancollege.ca/community-alumni/alumni/stories/#publications\n",
      "  https://www.georgiancollege.ca/community-alumni/alumni/update-my-profile/\n",
      "  https://www.georgiancollege.ca/community-alumni/giving/causes-to-support/\n",
      "  https://www.georgiancollege.ca/community-alumni/community-sponsorships/\n",
      "  https://www.georgiancollege.ca/community-alumni/georgian-dining-room/\n",
      "  https://www.georgiancollege.ca/community-alumni/health-and-wellness-clinics/acupuncture-clinic/\n",
      "  https://www.georgiancollege.ca/community-alumni/health-and-wellness-clinics/occupational-therapy-paediatric-clinic/\n",
      "  https://www.georgiancollege.ca/community-alumni/health-and-wellness-clinics/oral-health/\n",
      "  https://www.georgiancollege.ca/community-alumni/health-and-wellness-clinics/spa-and-esthetics/\n",
      "  https://www.georgiancollege.ca/community-alumni/health-and-wellness-clinics/speech-hearing-language/\n",
      "  https://www.georgiancollege.ca/community-alumni/health-and-wellness-clinics/student-hair-studio/\n",
      "  https://www.georgiancollege.ca/community-alumni/health-and-wellness-clinics/student-massage-therapy-clinic/\n",
      "  https://www.georgiancollege.ca/community-alumni/health-and-wellness-clinics/veterinary-hospital/\n",
      "  https://www.georgiancollege.ca/student-life/student-services/co-op-and-career-services/employers/\n",
      "  https://www.georgiancollege.ca/events/\n",
      "  https://www.georgiancollege.ca/blog/\n",
      "  https://www.georgiancollege.ca/about-georgian/campuses/barrie-campus/\n",
      "  https://www.georgiancollege.ca/about-georgian/campuses/barrie-campus/downtown-barrie-location/\n",
      "  https://www.georgiancollege.ca/about-georgian/campuses/midland-campus/\n",
      "  https://www.georgiancollege.ca/about-georgian/campuses/muskoka-campus/\n",
      "  https://www.georgiancollege.ca/about-georgian/campuses/orangeville-campus/\n",
      "  https://www.georgiancollege.ca/about-georgian/campuses/orillia-campus/\n",
      "  https://www.georgiancollege.ca/about-georgian/campuses/owen-sound-campus/\n",
      "  https://www.georgiancollege.ca/about-georgian/campuses/south-georgian-bay-campus/\n",
      "  https://www.georgiancollege.ca/about-georgian/visit-us/\n",
      "  https://www.georgiancollege.ca/about-georgian/visit-us/maps-directions/\n",
      "  https://www.georgiancollege.ca/about-georgian/corporate-information/accessibility/\n",
      "  https://www.georgiancollege.ca/about-georgian/corporate-information/president/board-of-governors/\n",
      "  https://www.georgiancollege.ca/about-georgian/corporate-information/environmental-sustainability/\n",
      "  https://www.georgiancollege.ca/about-georgian/corporate-information/equity-diversity-inclusion-and-belonging/\n",
      "  https://www.georgiancollege.ca/about-georgian/corporate-information/indigenization/\n",
      "  https://www.georgiancollege.ca/about-georgian/corporate-information/mental-heath-and-well-being/\n",
      "  https://www.georgiancollege.ca/about-georgian/corporate-information/president/\n",
      "  https://www.georgiancollege.ca/about-georgian/corporate-information/president/senior-leadership/\n",
      "  https://www.georgiancollege.ca/about-georgian/research/research-ethics-board/\n",
      "  https://www.georgiancollege.ca/about-georgian/corporate-information/key-performance-indicators/\n",
      "  https://www.georgiancollege.ca/about-georgian/corporate-information/policies-procedures/\n",
      "  https://www.georgiancollege.ca/about-georgian/corporate-information/georgian-publications/\n",
      "  https://www.georgiancollege.ca/about-georgian/corporate-information/strategic-plan/\n",
      "  https://www.georgiancollege.ca/about-georgian/career-opportunities/\n",
      "  https://www.georgiancollege.ca/about-georgian/campus-safety-services/\n",
      "  https://www.georgiancollege.ca/about-georgian/purchasing/\n",
      "  https://www.georgiancollege.ca/ctlae/\n",
      "  https://www.georgiancollege.ca/academics/academic-quality/\n",
      "  https://www.georgiancollege.ca/program-advisory-committees/\n",
      "  https://www.georgiancollege.ca/news-events/all-events/get-to-know-georgian/\n",
      "  https://info.georgiancollege.ca/StillTimeToApply\n",
      "  https://www.georgiancollege.ca/careermatch/\n",
      "  https://www.georgiancollege.ca/news-events/all-events/open-house/\n",
      "  https://www.georgiancollege.ca/new-students/\n",
      "  https://www.georgiancollege.ca/news-events/all-events/campus-experience-week/\n",
      "  http://georgiancollege.uberflip.com/i/1504196-georgian-college-viewbook-2024-2025/\n",
      "  https://georgiancollege.sharepoint.com/sites/gcPortal/SitePages/Home.aspx\n",
      "  https://www.georgiancollege.ca/blog/student-life/co-op-student-of-the-year-discovers-passion-for-civil-engineering/\n",
      "  https://www.georgiancollege.ca/blog/newsroom/georgian-college-expands-presence-downtown-barrie/\n",
      "  https://www.georgiancollege.ca/blog/people-of-georgian/advisor-rediscovering-herself-after-kids-leave-the-nest/\n",
      "  https://www.georgiancollege.ca/blog/newsroom/georgian-knocks-down-hundreds-of-cereal-boxes-like-dominos-in-student-food-bank-fundraiser/\n",
      "  https://www.georgiancollege.ca/blog/newsroom/georgian-elizabeth-fry-launch-motorcycle-pilot-program-to-help-youth-changing-course/\n",
      "  https://www.georgiancollege.ca/blog/people-of-georgian/people-of-georgian-advisor-shares-experience-as-bisexual-woman/\n",
      "  https://www.georgiancollege.ca/blog/newsroom/opp-training-exercise-at-georgians-orillia-campus-highlights-community-collaboration/\n",
      "  https://www.georgiancollege.ca/blog/people-of-georgian/theatre-director-promotes-safe-2slgbtqia-spaces/\n",
      "  https://www.georgiancollege.ca/blog/newsroom/former-georgian-president-and-alumnus-receive-prestigious-awards-at-convocation/\n",
      "  https://www.georgiancollege.ca/news-events/events/get-to-know-georgian-july-2024/\n",
      "  https://www.georgiancollege.ca/news-events/events/get-to-know-georgian-august-2024/\n",
      "  https://www.georgiancollege.ca/news-events/events/last-day-to-register-for-a-july-start-ontariolearn-course/\n",
      "  https://www.georgiancollege.ca/news-events/events/last-day-to-withdraw-from-an-ontariolearn-course-starting-in-july-with-refund/\n",
      "  https://www.georgiancollege.ca/news-events/events/deposit-due-for-domestic-students-returning-in-the-fall-3/\n",
      "  https://www.georgiancollege.ca/news-events/events/last-day-to-withdraw-from-most-summer-programs-courses-without-academic-penalty-no-refund-2/\n",
      "  https://www.georgiancollege.ca/news-events/events/continuing-education-registration-begins-for-all-terms-3/\n",
      "  https://www.georgiancollege.ca/news-events/events/full-fall-fees-due-for-international-students-3/\n",
      "  https://twitter.com/georgiancollege\n",
      "  https://www.facebook.com/GeorgianCollege\n",
      "  http://www.youtube.com/georgianvideos\n",
      "  http://instagram.com/georgiancollege\n",
      "  https://www.linkedin.com/school/2409/\n",
      "  https://www.georgiancollege.ca/about-georgian/student-recruitment-team/\n",
      "  https://www.georgiancollege.ca/privacy-policy/\n",
      "  tel:7057281968\n",
      "  mailto:inquire@georgiancollege.ca\n"
     ]
    }
   ],
   "source": [
    "webdir('https://www.georgiancollege.ca/', 2, 0) # as this link (http://reed.cs.depaul.edu/lperkovic/csc242/test1.html) is showing error 404.\n"
   ]
  },
  {
   "cell_type": "markdown",
   "id": "423f6ec1-3461-4333-a6e6-885c4633bccb",
   "metadata": {},
   "source": [
    "# QUestion 8:\n",
    "Write SQL queries on the below database table that return:\n",
    "a) All the temperature data.\n",
    "b) All the cities, but without repetition.\n",
    "c) All the records for India.\n",
    "d) All the Fall records.\n",
    " The city, country, and season for which the average rainfall is between 200\n",
    "and 400 millimeters.\n",
    "f) The city and country for which the average Fall temperature is above 20\n",
    "degrees, in increasing temperature order.\n",
    "g) The total annual rainfall for Cairo.\n",
    "h) The total rainfall for each season.\n",
    "City Country Season Temperature\n",
    "(C)\n",
    "Rainfall\n",
    "(mm)\n",
    "Mumbai India Winter 24.8 5.9\n",
    "Mumbai India Spring 28.4 16.2\n",
    "Mumbai India Summer 27.9 1549.4\n",
    "Mumbai India Fall 27.6 346.0\n",
    "London United Kingdom Winter 4.2 207.7\n",
    "London United Kingdom Spring 8.3 169.6\n",
    "London United Kingdom Summer 15.7 157.0\n",
    "London United Kingdom Fall 10.4 218.5\n",
    "Cairo Egypt Winter 13.6 16.5\n",
    "Cairo Egypt Spring 20.7 6.5\n",
    "Cairo Egypt Summer 27.7 0.1\n",
    "Cairo Egypt Fall 22.2 4.5 "
   ]
  },
  {
   "cell_type": "code",
   "execution_count": null,
   "id": "c9262ebc-996e-4f04-8713-26ead3cac894",
   "metadata": {},
   "outputs": [],
   "source": []
  },
  {
   "cell_type": "markdown",
   "id": "6f2ceeb2-3762-4d74-9f86-da63ee610b88",
   "metadata": {},
   "source": [
    "# SQL\n",
    "SELECT Temperature\n",
    "FROM WeatherData;\n",
    "\n",
    "SELECT DISTINCT City\n",
    "FROM WeatherData;\n",
    "\n",
    "SELECT *\n",
    "FROM WeatherData\n",
    "WHERE Country = 'India';\n",
    "\n",
    "SELECT *\n",
    "FROM WeatherData\n",
    "WHERE Season = 'Fall';\n",
    "\n",
    "SELECT City, Country, Season\n",
    "FROM WeatherData\n",
    "GROUP BY City, Country, Season\n",
    "HAVING AVG(Rainfall) BETWEEN 200 AND 400;\n",
    "\n",
    "SELECT City, Country\n",
    "FROM WeatherData\n",
    "WHERE Season = 'Fall'\n",
    "GROUP BY City, Country\n",
    "HAVING AVG(Temperature) > 20\n",
    "ORDER BY AVG(Temperature);\n",
    "\n",
    "SELECT City, SUM(Rainfall) AS TotalAnnualRainfall\n",
    "FROM WeatherData\n",
    "WHERE City = 'Cairo'\n",
    "GROUP BY City;\n",
    "\n",
    "SELECT Season, SUM(Rainfall) AS TotalRainfall\n",
    "FROM WeatherData\n",
    "GROUP BY Season;"
   ]
  },
  {
   "cell_type": "markdown",
   "id": "f6019488-c377-4faa-b0ed-e0aee58a3d27",
   "metadata": {},
   "source": [
    "# Question 9:\n",
    "Suppose list words is defined as follows:\n",
    ">>> words = ['The', 'quick', 'brown', 'fox', 'jumps', 'over',\n",
    "'the', 'lazy', 'dog']\n",
    "Write list comprehension expressions that use list words and generate the following\n",
    "lists:\n",
    "a) ['THE', 'QUICK', 'BROWN', 'FOX', 'JUMPS', 'OVER', 'THE',\n",
    "'LAZY', 'DOG']\n",
    "b) ['the', 'quick', 'brown', 'fox', 'jumps', 'over', 'the',\n",
    "'lazy', 'dog']\n",
    "c) [3, 5, 5, 3, 5, 4, 3, 4, 3] (the list of lengths of words in list\n",
    "words).\n",
    "d) [['THE', 'the', 3], ['QUICK', 'quick', 5], ['BROWN',\n",
    "'brown', 5], ['FOX', 'fox', 3], ['JUMPS', 'jumps', 5],\n",
    "['OVER', 'over', 4], ['THE', 'the', 3], ['LAZY', 'lazy',\n",
    "4], ['DOG', 'dog', 3]] (the list containing a list for every word of list\n",
    "words, where each list contains the word in uppercase and lowercase and the\n",
    "length of the word.)\n",
    "e) ['The', 'quick', 'brown', 'fox', 'jumps', 'over', 'the',\n",
    "'lazy', 'dog'] (the list of words in list words containing 4 or more\n",
    "characters.)"
   ]
  },
  {
   "cell_type": "code",
   "execution_count": 53,
   "id": "1ce9e037-56ff-4e2b-bdb0-ce950202eb92",
   "metadata": {},
   "outputs": [
    {
     "name": "stdout",
     "output_type": "stream",
     "text": [
      "['THE', 'QUICK', 'BROWN', 'FOX', 'JUMPS', 'OVER', 'THE', 'LAZY', 'DOG']\n"
     ]
    }
   ],
   "source": [
    "#Answer (a):\n",
    "words = ['The', 'quick', 'brown', 'fox', 'jumps', 'over', 'the', 'lazy', 'dog']\n",
    "# lists all the words in Uppercase\n",
    "uppercase_words = [word.upper() for word in words] \n",
    "print(uppercase_words)"
   ]
  },
  {
   "cell_type": "code",
   "execution_count": 54,
   "id": "a6ca1182-70ea-4b8d-946f-f418d801910a",
   "metadata": {},
   "outputs": [
    {
     "name": "stdout",
     "output_type": "stream",
     "text": [
      "['the', 'quick', 'brown', 'fox', 'jumps', 'over', 'the', 'lazy', 'dog']\n"
     ]
    }
   ],
   "source": [
    "# lists all the words in lower case\n",
    "lowercase_words = [word.lower() for word in words]\n",
    "print(lowercase_words)"
   ]
  },
  {
   "cell_type": "code",
   "execution_count": 55,
   "id": "29451c31-9f9c-4ac8-bfc3-4c0da203a666",
   "metadata": {},
   "outputs": [
    {
     "name": "stdout",
     "output_type": "stream",
     "text": [
      "[3, 5, 5, 3, 5, 4, 3, 4, 3]\n"
     ]
    }
   ],
   "source": [
    "#list the count of each words\n",
    "word_lengths = [len(word) for word in words] \n",
    "print(word_lengths)"
   ]
  },
  {
   "cell_type": "code",
   "execution_count": 56,
   "id": "633eb6bc-4994-45d8-bde8-65b39567f9e9",
   "metadata": {},
   "outputs": [
    {
     "name": "stdout",
     "output_type": "stream",
     "text": [
      "[['THE', 'the', 3], ['QUICK', 'quick', 5], ['BROWN', 'brown', 5], ['FOX', 'fox', 3], ['JUMPS', 'jumps', 5], ['OVER', 'over', 4], ['THE', 'the', 3], ['LAZY', 'lazy', 4], ['DOG', 'dog', 3]]\n"
     ]
    }
   ],
   "source": [
    "#list a combination of Uppercase, Lowercase and word count\n",
    "word_info = [[word.upper(), word.lower(), len(word)] for word in words] \n",
    "print(word_info)"
   ]
  },
  {
   "cell_type": "code",
   "execution_count": 57,
   "id": "a787c0fe-3c24-4fae-ad43-a252cbc9da4b",
   "metadata": {},
   "outputs": [
    {
     "name": "stdout",
     "output_type": "stream",
     "text": [
      "['quick', 'brown', 'jumps', 'over', 'lazy']\n"
     ]
    }
   ],
   "source": [
    "#list ord that are 4 or more alphabets\n",
    "long_words = [word for word in words if len(word) >= 4]\n",
    "print(long_words)"
   ]
  },
  {
   "cell_type": "code",
   "execution_count": null,
   "id": "7f547737-556c-4847-b1d1-a12deb0efd66",
   "metadata": {},
   "outputs": [],
   "source": []
  }
 ],
 "metadata": {
  "kernelspec": {
   "display_name": "Python 3 (ipykernel)",
   "language": "python",
   "name": "python3"
  },
  "language_info": {
   "codemirror_mode": {
    "name": "ipython",
    "version": 3
   },
   "file_extension": ".py",
   "mimetype": "text/x-python",
   "name": "python",
   "nbconvert_exporter": "python",
   "pygments_lexer": "ipython3",
   "version": "3.11.7"
  }
 },
 "nbformat": 4,
 "nbformat_minor": 5
}
